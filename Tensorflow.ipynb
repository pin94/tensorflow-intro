{
  "nbformat": 4,
  "nbformat_minor": 0,
  "metadata": {
    "colab": {
      "provenance": [],
      "authorship_tag": "ABX9TyOs1GJN9KFKSsxru/DBdR54",
      "include_colab_link": true
    },
    "kernelspec": {
      "name": "python3",
      "display_name": "Python 3"
    },
    "language_info": {
      "name": "python"
    }
  },
  "cells": [
    {
      "cell_type": "markdown",
      "metadata": {
        "id": "view-in-github",
        "colab_type": "text"
      },
      "source": [
        "<a href=\"https://colab.research.google.com/github/pin94/tensorflow-intro/blob/main/Tensorflow.ipynb\" target=\"_parent\"><img src=\"https://colab.research.google.com/assets/colab-badge.svg\" alt=\"Open In Colab\"/></a>"
      ]
    },
    {
      "cell_type": "code",
      "execution_count": null,
      "metadata": {
        "id": "Ej6ABE1ug2fZ"
      },
      "outputs": [],
      "source": [
        "import tensorflow as tf\n",
        "import matplotlib.pyplot as plt"
      ]
    },
    {
      "cell_type": "code",
      "source": [
        "#get the data and split it to training and test datasets\n",
        "(train_images, train_labels),(test_images,test_labels) = tf.keras.datasets.mnist.load_data()"
      ],
      "metadata": {
        "id": "gZiAPb-OhAog"
      },
      "execution_count": null,
      "outputs": []
    },
    {
      "cell_type": "code",
      "source": [
        "#scale down the value of the pixels from 0-225 to 0-1\n",
        "train_images=train_images/255.0\n",
        "test_images=test_images/255.0"
      ],
      "metadata": {
        "id": "hLaO9h90hjbW"
      },
      "execution_count": null,
      "outputs": []
    },
    {
      "cell_type": "code",
      "source": [
        "#visualise the data\n",
        "train_images.shape\n",
        "test_images.shape\n",
        "train_labels\n",
        "\n",
        "#display the first image\n",
        "plt.imshow(train_images[0],cmap='gray')\n",
        "plt.show()"
      ],
      "metadata": {
        "colab": {
          "base_uri": "https://localhost:8080/",
          "height": 265
        },
        "id": "gMjboev1h0UO",
        "outputId": "2faf6d44-12b0-45f5-b67b-ae3a9e021c61"
      },
      "execution_count": null,
      "outputs": [
        {
          "output_type": "display_data",
          "data": {
            "text/plain": [
              "<Figure size 432x288 with 1 Axes>"
            ],
            "image/png": "[encoded data removed]"
          },
          "metadata": {
            "needs_background": "light"
          }
        }
      ]
    },
    {
      "cell_type": "code",
      "source": [
        "# define the neural network model\n",
        "my_model=tf.keras.models.Sequential()\n",
        "my_model.add(tf.keras.layers.Flatten(input_shape=(28,28)))\n",
        "my_model.add(tf.keras.layers.Dense(128,activation='relu'))\n",
        "my_model.add(tf.keras.layers.Dense(10,activation='softmax'))\n",
        "\n",
        "# compile the model\n",
        "my_model.compile(optimizer='adam',\n",
        "                 loss='sparse_categorical_crossentropy',\n",
        "                 metrics=['accuracy'])\n",
        "\n",
        "# train the model\n",
        "my_model.fit(train_images,train_labels,epochs=5)\n"
      ],
      "metadata": {
        "colab": {
          "base_uri": "https://localhost:8080/"
        },
        "id": "-ynnilE5ikOX",
        "outputId": "f61ed0e4-368e-45b0-ea90-f232a208be78"
      },
      "execution_count": null,
      "outputs": [
        {
          "output_type": "stream",
          "name": "stdout",
          "text": [
            "Epoch 1/5\n",
            "1875/1875 [==============================] - 8s 4ms/step - loss: 1.1458 - accuracy: 0.7241\n",
            "Epoch 2/5\n",
            "1875/1875 [==============================] - 7s 3ms/step - loss: 0.4742 - accuracy: 0.8752\n",
            "Epoch 3/5\n",
            "1875/1875 [==============================] - 8s 4ms/step - loss: 0.3753 - accuracy: 0.8965\n",
            "Epoch 4/5\n",
            "1875/1875 [==============================] - 7s 4ms/step - loss: 0.3364 - accuracy: 0.9054\n",
            "Epoch 5/5\n",
            "1875/1875 [==============================] - 7s 4ms/step - loss: 0.3138 - accuracy: 0.9100\n"
          ]
        },
        {
          "output_type": "execute_result",
          "data": {
            "text/plain": [
              "<keras.callbacks.History at 0x7f3820180fa0>"
            ]
          },
          "metadata": {},
          "execution_count": 17
        }
      ]
    },
    {
      "cell_type": "code",
      "source": [
        "# check the model accuracy on the test data\n",
        "val_loss,val_acc=my_model.evaluate(test_images,test_labels)\n",
        "print('Test accuracy: ',val_acc)"
      ],
      "metadata": {
        "colab": {
          "base_uri": "https://localhost:8080/"
        },
        "id": "4vB23ptOkCaF",
        "outputId": "fe62fb66-0e03-4fc6-f6ab-4b269c6a67c7"
      },
      "execution_count": null,
      "outputs": [
        {
          "output_type": "stream",
          "name": "stdout",
          "text": [
            "313/313 [==============================] - 1s 2ms/step - loss: 15403.8877 - accuracy: 0.7926\n",
            "Test accuracy:  0.7925999760627747\n"
          ]
        }
      ]
    },
    {
      "cell_type": "code",
      "source": [
        "# save the nod\n",
        "my_model.save('my_nmist_model')"
      ],
      "metadata": {
        "colab": {
          "base_uri": "https://localhost:8080/"
        },
        "id": "ZidNw0pck4_t",
        "outputId": "bfe923db-8524-4476-d405-b8315e481ff6"
      },
      "execution_count": null,
      "outputs": [
        {
          "output_type": "stream",
          "name": "stderr",
          "text": [
            "WARNING:absl:Found untraced functions such as _update_step_xla while saving (showing 1 of 1). These functions will not be directly callable after loading.\n"
          ]
        }
      ]
    },
    {
      "cell_type": "code",
      "source": [
        "# load the model from file system\n",
        "my_new_model=tf.keras.models.load_model('my_nmist_model')"
      ],
      "metadata": {
        "id": "xG7ApgcalOfy"
      },
      "execution_count": null,
      "outputs": []
    },
    {
      "cell_type": "code",
      "source": [
        "# check the new model for accuracy on the test data\n",
        "new_val_loss,new_val_acc=my_new_model.evaluate(test_images,\n",
        "                                                test_labels)\n",
        "print('New test accuracy: ',new_val_acc)"
      ],
      "metadata": {
        "colab": {
          "base_uri": "https://localhost:8080/"
        },
        "id": "4IQ9b7QIlCwy",
        "outputId": "b966b44e-04df-4f39-9d8e-12fb4b135984"
      },
      "execution_count": null,
      "outputs": [
        {
          "output_type": "stream",
          "name": "stdout",
          "text": [
            "313/313 [==============================] - 1s 2ms/step - loss: 15403.8877 - accuracy: 0.7926\n",
            "New test accuracy:  0.7925999760627747\n"
          ]
        }
      ]
    }
  ]
}